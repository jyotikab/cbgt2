{
 "cells": [
  {
   "cell_type": "markdown",
   "metadata": {},
   "source": [
    "### To run the cbgt network, see first the technical_testbench to install all the required packages and start the server "
   ]
  },
  {
   "cell_type": "code",
   "execution_count": 1,
   "metadata": {},
   "outputs": [],
   "source": [
    "#Auto reloading \n",
    "#%load_ext autoreload\n",
    "#%autoreload 2\n",
    "#%reload_ext autoreload "
   ]
  },
  {
   "cell_type": "code",
   "execution_count": 2,
   "metadata": {},
   "outputs": [],
   "source": [
    "#Removing indentation issues:\n",
    "#!autopep8 --in-place --aggressive --aggressive init_params.py\n",
    "#!autopep8 --in-place --aggressive --aggressive popconstruct.py\n",
    "#!autopep8 --in-place --aggressive --aggressive generateepochs.py\n",
    "#!autopep8 --in-place --aggressive --aggressive qvalues.py"
   ]
  },
  {
   "cell_type": "code",
   "execution_count": 3,
   "metadata": {},
   "outputs": [
    {
     "name": "stdout",
     "output_type": "stream",
     "text": [
      "running build_ext\r\n",
      "copying build/lib.linux-x86_64-3.6/agent_timestep.cpython-36m-x86_64-linux-gnu.so -> \r\n"
     ]
    }
   ],
   "source": [
    "!python setup.py build_ext --inplace"
   ]
  },
  {
   "cell_type": "code",
   "execution_count": 4,
   "metadata": {},
   "outputs": [
    {
     "name": "stderr",
     "output_type": "stream",
     "text": [
      "/home/bahuguna/anaconda3/envs/cbgt_env/lib/python3.6/site-packages/ray/autoscaler/_private/cli_logger.py:61: FutureWarning: Not all Ray CLI dependencies were found. In Ray 1.4+, the Ray CLI, autoscaler, and dashboard will only be usable via `pip install 'ray[default]'`. Please update your install command.\n",
      "  \"update your install command.\", FutureWarning)\n",
      "2021-10-14 11:23:59,839\tINFO worker.py:727 -- Connecting to existing Ray cluster at address: 172.25.2.251:6379\n"
     ]
    }
   ],
   "source": [
    "#Importing scripts:\n",
    "import cbgt as cbgt\n",
    "from frontendhelpers import * \n",
    "from tracetype import *\n",
    "import init_params as par \n",
    "import popconstruct as popconstruct\n",
    "import qvalues as qval\n",
    "import generateepochs as gen\n",
    "from agentmatrixinit import *\n",
    "#from general_init_codeblocks import *\n",
    "from agent_timestep import timestep_mutator, multitimestep_mutator\n",
    "import pdb\n",
    "import pipeline_creation as pl_creat\n",
    "import mega_loop as ml\n",
    "import plotting_functions as plt_func\n",
    "import matplotlib.pyplot as plt"
   ]
  },
  {
   "cell_type": "markdown",
   "metadata": {},
   "source": [
    "# Create pipeline"
   ]
  },
  {
   "cell_type": "markdown",
   "metadata": {},
   "source": [
    "### Network pipeline"
   ]
  },
  {
   "cell_type": "code",
   "execution_count": 5,
   "metadata": {},
   "outputs": [
    {
     "name": "stdout",
     "output_type": "stream",
     "text": [
      "753615\n",
      "[ 4 31 42 29 40  4 41 37  0 20]\n"
     ]
    }
   ],
   "source": [
    "seed = np.random.randint(0,9999999)\n",
    "print(seed)\n",
    "np.random.seed(seed)\n",
    "to_check = np.random.randint(0,50,10)\n",
    "print(to_check)"
   ]
  },
  {
   "cell_type": "code",
   "execution_count": 6,
   "metadata": {},
   "outputs": [],
   "source": [
    "#Create the whole pipeline.\n",
    "#This pipeline creates three sub-pipelines: \n",
    "#rewards pipeline (rsg), q values pipeline (q_val), network pipeline(pl)\n",
    "\n",
    "pl = pl_creat.create_main_pipeline()\n",
    "mega_l = ml.mega_loop"
   ]
  },
  {
   "cell_type": "markdown",
   "metadata": {},
   "source": [
    "# Timestep loop"
   ]
  },
  {
   "cell_type": "code",
   "execution_count": 7,
   "metadata": {},
   "outputs": [
    {
     "data": {
      "text/plain": [
       "<backend.Pipeline at 0x7f77fc551d68>"
      ]
     },
     "execution_count": 7,
     "metadata": {},
     "output_type": "execute_result"
    }
   ],
   "source": [
    "#Adding the timestep loop to the main pipeline\n",
    "pl.add(mega_l)"
   ]
  },
  {
   "cell_type": "markdown",
   "metadata": {},
   "source": [
    "# Running the pipeline"
   ]
  },
  {
   "cell_type": "markdown",
   "metadata": {},
   "source": [
    "### 1. Default values"
   ]
  },
  {
   "cell_type": "code",
   "execution_count": 8,
   "metadata": {},
   "outputs": [],
   "source": [
    "#See init_params.py / generateepochs.py / popconstruct.py / qvalues.py\n",
    "#to know the parameters contained in each of the following variables \n",
    "environment = {\n",
    "    'params': None, #neuron parameters (init_params.py)\n",
    "    'pops': None,   #population parameters (init_params.py)\n",
    "    'receps' : None, #receptor parameters (init_params.py)\n",
    "    'base' : None, #baseline stimulation parameters (init_params.py)\n",
    "    'dpmns' : None, #dopamine related parameters (init_params.py)\n",
    "    'd1' : None, #D1-MSNs population related parameters (init_params.py)\n",
    "    'd2' : None, #D2-MSNs population related parameters (init_params.py)\n",
    "    'channels' : pd.DataFrame([[\"left\"],[\"right\"]], columns=['action']), #action channels related parameters (init_params.py)\n",
    "    #'actionchannels' : pd.DataFrame([[1],[2]], columns=['action']), #labels for the actions (init_params.py)\n",
    "    #'actionchannels' : pd.DataFrame([[\"left\"],[\"right\"]], columns=['action']), #labels for the actions (init_params.py)\n",
    "    'newpathways' : None, #connectivity parameters (popconstruct.py)\n",
    "    'Q_support_params': None, #initialization of Q-values update (qvalues.py) \n",
    "    'Q_df':None, #initialized Q-values df (qvalues.py)  \n",
    "    'n_trials': 5, #number of trials (generateepochs.py)\n",
    "    'volatility': 2, #frequency of changepoints (generateepochs.py)\n",
    "    'conflict': 0.7, #probability of the preferred choice (generateepochs.py)\n",
    "    'reward_mu': 1, #mean for the magnitude of the reward (generateepochs.py)\n",
    "    'reward_std': 0.1, #std for the magnitude of the reward (generateepochs.py)\n",
    "    'maxstim': 2.45, # 3 instead? how much stimulus the LIP gets at maximum\n",
    "}\n"
   ]
  },
  {
   "cell_type": "code",
   "execution_count": null,
   "metadata": {},
   "outputs": [
    {
     "name": "stderr",
     "output_type": "stream",
     "text": [
      "\u001b[2m\u001b[33m(raylet)\u001b[0m /home/bahuguna/anaconda3/envs/cbgt_env/lib/python3.6/site-packages/ray/autoscaler/_private/cli_logger.py:61: FutureWarning: Not all Ray CLI dependencies were found. In Ray 1.4+, the Ray CLI, autoscaler, and dashboard will only be usable via `pip install 'ray[default]'`. Please update your install command.\n",
      "\u001b[2m\u001b[33m(raylet)\u001b[0m   \"update your install command.\", FutureWarning)\n",
      "\u001b[2m\u001b[33m(raylet)\u001b[0m /home/bahuguna/anaconda3/envs/cbgt_env/lib/python3.6/site-packages/ray/autoscaler/_private/cli_logger.py:61: FutureWarning: Not all Ray CLI dependencies were found. In Ray 1.4+, the Ray CLI, autoscaler, and dashboard will only be usable via `pip install 'ray[default]'`. Please update your install command.\n",
      "\u001b[2m\u001b[33m(raylet)\u001b[0m   \"update your install command.\", FutureWarning)\n",
      "\u001b[2m\u001b[33m(raylet)\u001b[0m /home/bahuguna/anaconda3/envs/cbgt_env/lib/python3.6/site-packages/ray/autoscaler/_private/cli_logger.py:61: FutureWarning: Not all Ray CLI dependencies were found. In Ray 1.4+, the Ray CLI, autoscaler, and dashboard will only be usable via `pip install 'ray[default]'`. Please update your install command.\n",
      "\u001b[2m\u001b[33m(raylet)\u001b[0m   \"update your install command.\", FutureWarning)\n",
      "\u001b[2m\u001b[33m(raylet)\u001b[0m /home/bahuguna/anaconda3/envs/cbgt_env/lib/python3.6/site-packages/ray/autoscaler/_private/cli_logger.py:61: FutureWarning: Not all Ray CLI dependencies were found. In Ray 1.4+, the Ray CLI, autoscaler, and dashboard will only be usable via `pip install 'ray[default]'`. Please update your install command.\n",
      "\u001b[2m\u001b[33m(raylet)\u001b[0m   \"update your install command.\", FutureWarning)\n",
      "\u001b[2m\u001b[33m(raylet)\u001b[0m /home/bahuguna/anaconda3/envs/cbgt_env/lib/python3.6/site-packages/ray/autoscaler/_private/cli_logger.py:61: FutureWarning: Not all Ray CLI dependencies were found. In Ray 1.4+, the Ray CLI, autoscaler, and dashboard will only be usable via `pip install 'ray[default]'`. Please update your install command.\n",
      "\u001b[2m\u001b[33m(raylet)\u001b[0m   \"update your install command.\", FutureWarning)\n",
      "\u001b[2m\u001b[33m(raylet)\u001b[0m /home/bahuguna/anaconda3/envs/cbgt_env/lib/python3.6/site-packages/ray/autoscaler/_private/cli_logger.py:61: FutureWarning: Not all Ray CLI dependencies were found. In Ray 1.4+, the Ray CLI, autoscaler, and dashboard will only be usable via `pip install 'ray[default]'`. Please update your install command.\n",
      "\u001b[2m\u001b[33m(raylet)\u001b[0m   \"update your install command.\", FutureWarning)\n",
      "\u001b[2m\u001b[33m(raylet)\u001b[0m /home/bahuguna/anaconda3/envs/cbgt_env/lib/python3.6/site-packages/ray/autoscaler/_private/cli_logger.py:61: FutureWarning: Not all Ray CLI dependencies were found. In Ray 1.4+, the Ray CLI, autoscaler, and dashboard will only be usable via `pip install 'ray[default]'`. Please update your install command.\n",
      "\u001b[2m\u001b[33m(raylet)\u001b[0m   \"update your install command.\", FutureWarning)\n",
      "\u001b[2m\u001b[33m(raylet)\u001b[0m /home/bahuguna/anaconda3/envs/cbgt_env/lib/python3.6/site-packages/ray/autoscaler/_private/cli_logger.py:61: FutureWarning: Not all Ray CLI dependencies were found. In Ray 1.4+, the Ray CLI, autoscaler, and dashboard will only be usable via `pip install 'ray[default]'`. Please update your install command.\n",
      "\u001b[2m\u001b[33m(raylet)\u001b[0m   \"update your install command.\", FutureWarning)\n",
      "\u001b[2m\u001b[33m(raylet)\u001b[0m /home/bahuguna/anaconda3/envs/cbgt_env/lib/python3.6/site-packages/ray/autoscaler/_private/cli_logger.py:61: FutureWarning: Not all Ray CLI dependencies were found. In Ray 1.4+, the Ray CLI, autoscaler, and dashboard will only be usable via `pip install 'ray[default]'`. Please update your install command.\n",
      "\u001b[2m\u001b[33m(raylet)\u001b[0m   \"update your install command.\", FutureWarning)\n",
      "\u001b[2m\u001b[33m(raylet)\u001b[0m /home/bahuguna/anaconda3/envs/cbgt_env/lib/python3.6/site-packages/ray/autoscaler/_private/cli_logger.py:61: FutureWarning: Not all Ray CLI dependencies were found. In Ray 1.4+, the Ray CLI, autoscaler, and dashboard will only be usable via `pip install 'ray[default]'`. Please update your install command.\n",
      "\u001b[2m\u001b[33m(raylet)\u001b[0m   \"update your install command.\", FutureWarning)\n"
     ]
    },
    {
     "name": "stdout",
     "output_type": "stream",
     "text": [
      "\u001b[2m\u001b[36m(pid=354620)\u001b[0m 2 4 0.161666`\n",
      "\u001b[2m\u001b[36m(pid=354620)\u001b[0m 2 4 0.161666`\n",
      "\u001b[2m\u001b[36m(pid=354620)\u001b[0m 3 5 0.161666`\n",
      "\u001b[2m\u001b[36m(pid=354620)\u001b[0m 3 5 0.161666`\n",
      "\u001b[2m\u001b[36m(pid=354620)\u001b[0m 10 6 1.0`\n",
      "\u001b[2m\u001b[36m(pid=354620)\u001b[0m 10 8 1.0`\n",
      "\u001b[2m\u001b[36m(pid=354620)\u001b[0m 10 6 1.0`\n",
      "\u001b[2m\u001b[36m(pid=354620)\u001b[0m 10 8 1.0`\n",
      "\u001b[2m\u001b[36m(pid=354620)\u001b[0m 10 10 0.4335`\n",
      "\u001b[2m\u001b[36m(pid=354620)\u001b[0m 10 12 1.0`\n",
      "\u001b[2m\u001b[36m(pid=354620)\u001b[0m 10 14 1.0`\n",
      "\u001b[2m\u001b[36m(pid=354620)\u001b[0m 10 10 0.4335`\n",
      "\u001b[2m\u001b[36m(pid=354620)\u001b[0m 10 12 1.0`\n",
      "\u001b[2m\u001b[36m(pid=354620)\u001b[0m 10 14 1.0`\n",
      "\u001b[2m\u001b[36m(pid=354620)\u001b[0m 10 15 0.241667`\n",
      "\u001b[2m\u001b[36m(pid=354620)\u001b[0m 11 7 1.0`\n",
      "\u001b[2m\u001b[36m(pid=354620)\u001b[0m 11 9 1.0`\n",
      "\u001b[2m\u001b[36m(pid=354620)\u001b[0m 10 15 0.241667`\n",
      "\u001b[2m\u001b[36m(pid=354620)\u001b[0m 11 7 1.0`\n",
      "\u001b[2m\u001b[36m(pid=354620)\u001b[0m 11 9 1.0`\n",
      "\u001b[2m\u001b[36m(pid=354620)\u001b[0m 11 11 0.4335`\n",
      "\u001b[2m\u001b[36m(pid=354620)\u001b[0m 11 13 1.0`\n",
      "\u001b[2m\u001b[36m(pid=354620)\u001b[0m 11 14 1.0`\n",
      "\u001b[2m\u001b[36m(pid=354620)\u001b[0m 11 11 0.4335`\n",
      "\u001b[2m\u001b[36m(pid=354620)\u001b[0m 11 13 1.0`\n",
      "\u001b[2m\u001b[36m(pid=354620)\u001b[0m 11 14 1.0`\n",
      "\u001b[2m\u001b[36m(pid=354620)\u001b[0m 11 15 0.241667`\n",
      "\u001b[2m\u001b[36m(pid=354620)\u001b[0m 12 6 1.0`\n",
      "\u001b[2m\u001b[36m(pid=354620)\u001b[0m 12 8 1.0`\n",
      "\u001b[2m\u001b[36m(pid=354620)\u001b[0m 12 14 0.8334`\n",
      "\u001b[2m\u001b[36m(pid=354620)\u001b[0m 13 7 1.0`\n",
      "\u001b[2m\u001b[36m(pid=354620)\u001b[0m 13 9 1.0`\n",
      "\u001b[2m\u001b[36m(pid=354620)\u001b[0m 11 15 0.241667`\n",
      "\u001b[2m\u001b[36m(pid=354620)\u001b[0m 12 6 1.0`\n",
      "\u001b[2m\u001b[36m(pid=354620)\u001b[0m 12 8 1.0`\n",
      "\u001b[2m\u001b[36m(pid=354620)\u001b[0m 12 14 0.8334`\n",
      "\u001b[2m\u001b[36m(pid=354620)\u001b[0m 13 7 1.0`\n",
      "\u001b[2m\u001b[36m(pid=354620)\u001b[0m 13 9 1.0`\n",
      "\u001b[2m\u001b[36m(pid=354620)\u001b[0m 13 14 0.8334`\n",
      "\u001b[2m\u001b[36m(pid=354620)\u001b[0m 0 12 1.0`\n",
      "\u001b[2m\u001b[36m(pid=354620)\u001b[0m 1 13 1.0`\n",
      "\u001b[2m\u001b[36m(pid=354620)\u001b[0m 4 0 1.0`\n",
      "\u001b[2m\u001b[36m(pid=354620)\u001b[0m 13 14 0.8334`\n",
      "\u001b[2m\u001b[36m(pid=354620)\u001b[0m 0 12 1.0`\n",
      "\u001b[2m\u001b[36m(pid=354620)\u001b[0m 1 13 1.0`\n",
      "\u001b[2m\u001b[36m(pid=354620)\u001b[0m 4 0 1.0`\n",
      "\u001b[2m\u001b[36m(pid=354620)\u001b[0m 4 2 0.0667`\n",
      "\u001b[2m\u001b[36m(pid=354620)\u001b[0m 4 2 0.0667`\n",
      "\u001b[2m\u001b[36m(pid=354620)\u001b[0m 4 4 0.0667`\n",
      "\u001b[2m\u001b[36m(pid=354620)\u001b[0m 4 4 0.0667`\n",
      "\u001b[2m\u001b[36m(pid=354620)\u001b[0m 4 5 0.0667`\n",
      "\u001b[2m\u001b[36m(pid=354620)\u001b[0m 5 1 1.0`\n",
      "\u001b[2m\u001b[36m(pid=354620)\u001b[0m 4 5 0.0667`\n",
      "\u001b[2m\u001b[36m(pid=354620)\u001b[0m 5 1 1.0`\n",
      "\u001b[2m\u001b[36m(pid=354620)\u001b[0m 5 3 0.0667`\n",
      "\u001b[2m\u001b[36m(pid=354620)\u001b[0m 5 3 0.0667`\n",
      "\u001b[2m\u001b[36m(pid=354620)\u001b[0m 5 4 0.0667`\n",
      "\u001b[2m\u001b[36m(pid=354620)\u001b[0m 5 4 0.0667`\n",
      "\u001b[2m\u001b[36m(pid=354620)\u001b[0m 5 5 0.0667`\n",
      "\u001b[2m\u001b[36m(pid=354620)\u001b[0m 6 0 1.0`\n",
      "\u001b[2m\u001b[36m(pid=354620)\u001b[0m 5 5 0.0667`\n",
      "\u001b[2m\u001b[36m(pid=354620)\u001b[0m 6 0 1.0`\n",
      "\u001b[2m\u001b[36m(pid=354620)\u001b[0m 6 6 0.45`\n",
      "\u001b[2m\u001b[36m(pid=354620)\u001b[0m 6 6 0.45`\n",
      "\u001b[2m\u001b[36m(pid=354620)\u001b[0m 6 8 0.45`\n",
      "\u001b[2m\u001b[36m(pid=354620)\u001b[0m 7 1 1.0`\n",
      "\u001b[2m\u001b[36m(pid=354620)\u001b[0m 7 7 0.45`\n",
      "\u001b[2m\u001b[36m(pid=354620)\u001b[0m 6 8 0.45`\n",
      "\u001b[2m\u001b[36m(pid=354620)\u001b[0m 7 1 1.0`\n",
      "\u001b[2m\u001b[36m(pid=354620)\u001b[0m 7 7 0.45`\n",
      "\u001b[2m\u001b[36m(pid=354620)\u001b[0m 7 9 0.45`\n",
      "\u001b[2m\u001b[36m(pid=354620)\u001b[0m 8\n",
      "\u001b[2m\u001b[36m(pid=354620)\u001b[0m  \n",
      "\u001b[2m\u001b[36m(pid=354620)\u001b[0m 4\n",
      "\u001b[2m\u001b[36m(pid=354620)\u001b[0m  \n",
      "\u001b[2m\u001b[36m(pid=354620)\u001b[0m 1.0`\n",
      "\u001b[2m\u001b[36m(pid=354620)\u001b[0m 7 9 0.45`\n",
      "\u001b[2m\u001b[36m(pid=354620)\u001b[0m 8 4 1.0`\n",
      "\u001b[2m\u001b[36m(pid=354620)\u001b[0m 8 6 0.5`\n",
      "\u001b[2m\u001b[36m(pid=354620)\u001b[0m 8 8 0.45`\n",
      "\u001b[2m\u001b[36m(pid=354620)\u001b[0m 9 5 1.0`\n",
      "\u001b[2m\u001b[36m(pid=354620)\u001b[0m 8 6 0.5`\n",
      "\u001b[2m\u001b[36m(pid=354620)\u001b[0m 8 8 0.45`\n",
      "\u001b[2m\u001b[36m(pid=354620)\u001b[0m 9 5 1.0`\n",
      "\u001b[2m\u001b[36m(pid=354620)\u001b[0m 9 7 0.5`\n",
      "\u001b[2m\u001b[36m(pid=354620)\u001b[0m 9 7 0.5`\n",
      "\u001b[2m\u001b[36m(pid=354620)\u001b[0m 9 9 0.45`\n",
      "\u001b[2m\u001b[36m(pid=354620)\u001b[0m 14 6 1.0`\n",
      "\u001b[2m\u001b[36m(pid=354620)\u001b[0m 14 7 1.0`\n",
      "\u001b[2m\u001b[36m(pid=354620)\u001b[0m 14 8 1.0`\n",
      "\u001b[2m\u001b[36m(pid=354620)\u001b[0m 14 9 1.0`\n",
      "\u001b[2m\u001b[36m(pid=354620)\u001b[0m 14 14 1.0`\n",
      "\u001b[2m\u001b[36m(pid=354620)\u001b[0m 15 10 1.0`\n",
      "\u001b[2m\u001b[36m(pid=354620)\u001b[0m 9 9 0.45`\n",
      "\u001b[2m\u001b[36m(pid=354620)\u001b[0m 14 6 1.0`\n",
      "\u001b[2m\u001b[36m(pid=354620)\u001b[0m 14 7 1.0`\n",
      "\u001b[2m\u001b[36m(pid=354620)\u001b[0m 14 8 1.0`\n",
      "\u001b[2m\u001b[36m(pid=354620)\u001b[0m 14 9 1.0`\n",
      "\u001b[2m\u001b[36m(pid=354620)\u001b[0m 14 14 1.0`\n",
      "\u001b[2m\u001b[36m(pid=354620)\u001b[0m 15 10 1.0`\n",
      "\u001b[2m\u001b[36m(pid=354620)\u001b[0m 15 11 1.0`\n",
      "\u001b[2m\u001b[36m(pid=354620)\u001b[0m 15 15 1.0`\n",
      "\u001b[2m\u001b[36m(pid=354620)\u001b[0m 2 0 1.0`\n",
      "\u001b[2m\u001b[36m(pid=354620)\u001b[0m 2 1 1.0`\n",
      "\u001b[2m\u001b[36m(pid=354620)\u001b[0m 15 11 1.0`\n",
      "\u001b[2m\u001b[36m(pid=354620)\u001b[0m 15 15 1.0`\n",
      "\u001b[2m\u001b[36m(pid=354620)\u001b[0m 2 0 1.0`\n",
      "\u001b[2m\u001b[36m(pid=354620)\u001b[0m 2 1 1.0`\n",
      "\u001b[2m\u001b[36m(pid=354620)\u001b[0m 2 4 0.161666`\n",
      "\u001b[2m\u001b[36m(pid=354620)\u001b[0m 3 0 1.0`\n",
      "\u001b[2m\u001b[36m(pid=354620)\u001b[0m 3 1 1.0`\n",
      "\u001b[2m\u001b[36m(pid=354620)\u001b[0m 2 4 0.161666`\n",
      "\u001b[2m\u001b[36m(pid=354620)\u001b[0m 3 0 1.0`\n",
      "\u001b[2m\u001b[36m(pid=354620)\u001b[0m 3 1 1.0`\n",
      "\u001b[2m\u001b[36m(pid=354620)\u001b[0m 3 5 0.161666`\n",
      "\u001b[2m\u001b[36m(pid=354620)\u001b[0m 10 6 1.0`\n",
      "\u001b[2m\u001b[36m(pid=354620)\u001b[0m 10 8 1.0`\n",
      "\u001b[2m\u001b[36m(pid=354620)\u001b[0m 3 5 0.161666`\n",
      "\u001b[2m\u001b[36m(pid=354620)\u001b[0m 10 6 1.0`\n",
      "\u001b[2m\u001b[36m(pid=354620)\u001b[0m 10 8 1.0`\n",
      "\u001b[2m\u001b[36m(pid=354620)\u001b[0m 10 10 0.4335`\n",
      "\u001b[2m\u001b[36m(pid=354620)\u001b[0m 10 12 1.0`\n",
      "\u001b[2m\u001b[36m(pid=354620)\u001b[0m 10 10 0.4335`\n",
      "\u001b[2m\u001b[36m(pid=354620)\u001b[0m 10 12 1.0`\n",
      "\u001b[2m\u001b[36m(pid=354620)\u001b[0m 10 15 0.241667`\n",
      "\u001b[2m\u001b[36m(pid=354620)\u001b[0m 10 15 0.241667`\n",
      "\u001b[2m\u001b[36m(pid=354620)\u001b[0m 11 7 1.0`\n",
      "\u001b[2m\u001b[36m(pid=354620)\u001b[0m 11 9 1.0`\n",
      "\u001b[2m\u001b[36m(pid=354620)\u001b[0m 11 7 1.0`\n",
      "\u001b[2m\u001b[36m(pid=354620)\u001b[0m 11 9 1.0`\n",
      "\u001b[2m\u001b[36m(pid=354620)\u001b[0m 11 11 0.4335`\n",
      "\u001b[2m\u001b[36m(pid=354620)\u001b[0m 11 13 1.0`\n",
      "\u001b[2m\u001b[36m(pid=354620)\u001b[0m 11 11 0.4335`\n",
      "\u001b[2m\u001b[36m(pid=354620)\u001b[0m 11 13 1.0`\n",
      "\u001b[2m\u001b[36m(pid=354620)\u001b[0m 11 15 0.241667`\n",
      "\u001b[2m\u001b[36m(pid=354620)\u001b[0m 11 15 0.241667`\n",
      "\u001b[2m\u001b[36m(pid=354620)\u001b[0m 12 10 0.8334`\n",
      "\u001b[2m\u001b[36m(pid=354620)\u001b[0m 12 10 0.8334`\n",
      "\u001b[2m\u001b[36m(pid=354620)\u001b[0m 12 11 0.8334`\n",
      "\u001b[2m\u001b[36m(pid=354620)\u001b[0m 12 11 0.8334`\n",
      "\u001b[2m\u001b[36m(pid=354620)\u001b[0m 12 15 0.8334`\n",
      "\u001b[2m\u001b[36m(pid=354620)\u001b[0m 12 15 0.8334`\n",
      "\u001b[2m\u001b[36m(pid=354620)\u001b[0m 13 10 0.8334`\n",
      "\u001b[2m\u001b[36m(pid=354620)\u001b[0m 13 10 0.8334`\n",
      "\u001b[2m\u001b[36m(pid=354620)\u001b[0m 13 11 0.8334`\n",
      "\u001b[2m\u001b[36m(pid=354620)\u001b[0m 13 11 0.8334`\n",
      "\u001b[2m\u001b[36m(pid=354620)\u001b[0m 13 15 0.8334`\n",
      "\u001b[2m\u001b[36m(pid=354620)\u001b[0m 13 15 0.8334`\n",
      "\u001b[2m\u001b[36m(pid=354620)\u001b[0m phasetimer 238\n",
      "\u001b[2m\u001b[36m(pid=354620)\u001b[0m globaltimer 238\n",
      "\u001b[2m\u001b[36m(pid=354620)\u001b[0m gateFRs [ 8. 32.]\n",
      "\u001b[2m\u001b[36m(pid=354620)\u001b[0m thresholds_crossed [1]\n",
      "\u001b[2m\u001b[36m(pid=354620)\u001b[0m phasetimer 238\n",
      "\u001b[2m\u001b[36m(pid=354620)\u001b[0m globaltimer 238\n",
      "\u001b[2m\u001b[36m(pid=354620)\u001b[0m gateFRs [ 8. 32.]\n",
      "\u001b[2m\u001b[36m(pid=354620)\u001b[0m thresholds_crossed [1]\n",
      "\u001b[2m\u001b[36m(pid=354620)\u001b[0m phasetimer 501\n",
      "\u001b[2m\u001b[36m(pid=354620)\u001b[0m globaltimer 739\n",
      "\u001b[2m\u001b[36m(pid=354620)\u001b[0m phasetimer 501\n",
      "\u001b[2m\u001b[36m(pid=354620)\u001b[0m globaltimer 739\n",
      "\u001b[2m\u001b[36m(pid=354620)\u001b[0m   action\n",
      "\u001b[2m\u001b[36m(pid=354620)\u001b[0m 0   left\n",
      "\u001b[2m\u001b[36m(pid=354620)\u001b[0m 1  right\n",
      "\u001b[2m\u001b[36m(pid=354620)\u001b[0m chosen_action right\n",
      "\u001b[2m\u001b[36m(pid=354620)\u001b[0m   action\n",
      "\u001b[2m\u001b[36m(pid=354620)\u001b[0m 0   left\n",
      "\u001b[2m\u001b[36m(pid=354620)\u001b[0m 1  right\n",
      "\u001b[2m\u001b[36m(pid=354620)\u001b[0m chosen_action right\n",
      "\u001b[2m\u001b[36m(pid=354620)\u001b[0m phasetimer 150\n",
      "\u001b[2m\u001b[36m(pid=354620)\u001b[0m globaltimer 1390\n",
      "\u001b[2m\u001b[36m(pid=354620)\u001b[0m gateFRs [33.33333333  8.        ]\n",
      "\u001b[2m\u001b[36m(pid=354620)\u001b[0m thresholds_crossed [0]\n",
      "\u001b[2m\u001b[36m(pid=354620)\u001b[0m phasetimer 150\n",
      "\u001b[2m\u001b[36m(pid=354620)\u001b[0m globaltimer 1390\n",
      "\u001b[2m\u001b[36m(pid=354620)\u001b[0m gateFRs [33.33333333  8.        ]\n",
      "\u001b[2m\u001b[36m(pid=354620)\u001b[0m thresholds_crossed [0]\n",
      "\u001b[2m\u001b[36m(pid=354620)\u001b[0m phasetimer 501\n",
      "\u001b[2m\u001b[36m(pid=354620)\u001b[0m globaltimer 1891\n",
      "\u001b[2m\u001b[36m(pid=354620)\u001b[0m   action\n",
      "\u001b[2m\u001b[36m(pid=354620)\u001b[0m 0   left\n",
      "\u001b[2m\u001b[36m(pid=354620)\u001b[0m 1  right\n",
      "\u001b[2m\u001b[36m(pid=354620)\u001b[0m chosen_action left\n",
      "\u001b[2m\u001b[36m(pid=354620)\u001b[0m phasetimer 501\n",
      "\u001b[2m\u001b[36m(pid=354620)\u001b[0m globaltimer 1891\n",
      "\u001b[2m\u001b[36m(pid=354620)\u001b[0m   action\n",
      "\u001b[2m\u001b[36m(pid=354620)\u001b[0m 0   left\n",
      "\u001b[2m\u001b[36m(pid=354620)\u001b[0m 1  right\n",
      "\u001b[2m\u001b[36m(pid=354620)\u001b[0m chosen_action left\n",
      "\u001b[2m\u001b[36m(pid=354620)\u001b[0m phasetimer 195\n",
      "\u001b[2m\u001b[36m(pid=354620)\u001b[0m globaltimer 2587\n",
      "\u001b[2m\u001b[36m(pid=354620)\u001b[0m gateFRs [36. 12.]\n",
      "\u001b[2m\u001b[36m(pid=354620)\u001b[0m thresholds_crossed [0]\n",
      "\u001b[2m\u001b[36m(pid=354620)\u001b[0m phasetimer 195\n",
      "\u001b[2m\u001b[36m(pid=354620)\u001b[0m globaltimer 2587\n",
      "\u001b[2m\u001b[36m(pid=354620)\u001b[0m gateFRs [36. 12.]\n",
      "\u001b[2m\u001b[36m(pid=354620)\u001b[0m thresholds_crossed [0]\n",
      "\u001b[2m\u001b[36m(pid=354620)\u001b[0m phasetimer 501\n",
      "\u001b[2m\u001b[36m(pid=354620)\u001b[0m globaltimer 3088\n",
      "\u001b[2m\u001b[36m(pid=354620)\u001b[0m   action\n",
      "\u001b[2m\u001b[36m(pid=354620)\u001b[0m 0   left\n",
      "\u001b[2m\u001b[36m(pid=354620)\u001b[0m 1  right\n",
      "\u001b[2m\u001b[36m(pid=354620)\u001b[0m chosen_action left\n",
      "\u001b[2m\u001b[36m(pid=354620)\u001b[0m phasetimer 501\n",
      "\u001b[2m\u001b[36m(pid=354620)\u001b[0m globaltimer 3088\n",
      "\u001b[2m\u001b[36m(pid=354620)\u001b[0m   action\n",
      "\u001b[2m\u001b[36m(pid=354620)\u001b[0m 0   left\n",
      "\u001b[2m\u001b[36m(pid=354620)\u001b[0m 1  right\n",
      "\u001b[2m\u001b[36m(pid=354620)\u001b[0m chosen_action left\n",
      "\u001b[2m\u001b[36m(pid=354620)\u001b[0m phasetimer 157\n",
      "\u001b[2m\u001b[36m(pid=354620)\u001b[0m globaltimer 3746\n",
      "\u001b[2m\u001b[36m(pid=354620)\u001b[0m gateFRs [32. 28.]\n",
      "\u001b[2m\u001b[36m(pid=354620)\u001b[0m thresholds_crossed [0]\n",
      "\u001b[2m\u001b[36m(pid=354620)\u001b[0m phasetimer 157\n",
      "\u001b[2m\u001b[36m(pid=354620)\u001b[0m globaltimer 3746\n",
      "\u001b[2m\u001b[36m(pid=354620)\u001b[0m gateFRs [32. 28.]\n",
      "\u001b[2m\u001b[36m(pid=354620)\u001b[0m thresholds_crossed [0]\n"
     ]
    },
    {
     "name": "stdout",
     "output_type": "stream",
     "text": [
      "\u001b[2m\u001b[36m(pid=354620)\u001b[0m phasetimer 501\n",
      "\u001b[2m\u001b[36m(pid=354620)\u001b[0m globaltimer 4247\n",
      "\u001b[2m\u001b[36m(pid=354620)\u001b[0m   action\n",
      "\u001b[2m\u001b[36m(pid=354620)\u001b[0m 0   left\n",
      "\u001b[2m\u001b[36m(pid=354620)\u001b[0m 1  right\n",
      "\u001b[2m\u001b[36m(pid=354620)\u001b[0m chosen_action left\n",
      "\u001b[2m\u001b[36m(pid=354620)\u001b[0m phasetimer 501\n",
      "\u001b[2m\u001b[36m(pid=354620)\u001b[0m globaltimer 4247\n",
      "\u001b[2m\u001b[36m(pid=354620)\u001b[0m   action\n",
      "\u001b[2m\u001b[36m(pid=354620)\u001b[0m 0   left\n",
      "\u001b[2m\u001b[36m(pid=354620)\u001b[0m 1  right\n",
      "\u001b[2m\u001b[36m(pid=354620)\u001b[0m chosen_action left\n"
     ]
    }
   ],
   "source": [
    "results = cbgt.ExecutionManager(cores=7).run([pl],[environment])"
   ]
  },
  {
   "cell_type": "code",
   "execution_count": null,
   "metadata": {},
   "outputs": [],
   "source": [
    "results[0].keys()"
   ]
  },
  {
   "cell_type": "code",
   "execution_count": null,
   "metadata": {},
   "outputs": [],
   "source": [
    "cbgt.saveResults(results,'test',['popfreqs','popdata'])"
   ]
  },
  {
   "cell_type": "code",
   "execution_count": null,
   "metadata": {},
   "outputs": [],
   "source": [
    "results[0]['actionchannels']"
   ]
  },
  {
   "cell_type": "code",
   "execution_count": null,
   "metadata": {},
   "outputs": [],
   "source": [
    "results[0]['popdata']"
   ]
  },
  {
   "cell_type": "code",
   "execution_count": null,
   "metadata": {},
   "outputs": [],
   "source": [
    "results[0]['popfreqs']"
   ]
  },
  {
   "cell_type": "code",
   "execution_count": null,
   "metadata": {},
   "outputs": [],
   "source": [
    "results[0] = plt_func.rename_columns(results[0])\n",
    "results[0]['popfreqs']"
   ]
  },
  {
   "cell_type": "code",
   "execution_count": null,
   "metadata": {},
   "outputs": [],
   "source": []
  },
  {
   "cell_type": "code",
   "execution_count": null,
   "metadata": {},
   "outputs": [],
   "source": [
    "# You can smoothen the FR by sending smooth=True, default: smooth=False\n",
    "#plt_func.plot_fr(results[0],smooth=True)\n",
    "plt_func.plot_fr(results[0])"
   ]
  },
  {
   "cell_type": "code",
   "execution_count": null,
   "metadata": {},
   "outputs": [],
   "source": [
    "savedresults = cbgt.loadResults('test')\n",
    "savedresults[0]['popfreqs']"
   ]
  },
  {
   "cell_type": "code",
   "execution_count": null,
   "metadata": {},
   "outputs": [],
   "source": [
    "t_epochs = cbgt.collateVariable(results,'t_epochs')\n",
    "t_epochs"
   ]
  },
  {
   "cell_type": "code",
   "execution_count": null,
   "metadata": {},
   "outputs": [],
   "source": [
    "# LLLLLLLLLLLLLLLLLLRRRRRRRRRRRRRRRRRRRRRRLLLLLLLLLLLLLLLLLLLLLLLLLRRRRRRRRRRRRRRRRR\n",
    "\n",
    "# LLLRLLLRLLLRRLLLLLRRRRRRLLRRRRLLRRRLRRRRLLLLLRLLRLLLLLRLLLLRLLLLLRRRRRRRRRRRRRRRRR\n",
    "\n",
    "# LLLLLLLLLLLLLLLLLLRRRRRRRRRRRRRRRRRRRRRRLLLLLLLLLLLLLLLLLLLLLLLLLRRRRRRRRRRRRRRRRR"
   ]
  },
  {
   "cell_type": "code",
   "execution_count": null,
   "metadata": {},
   "outputs": [],
   "source": []
  },
  {
   "cell_type": "code",
   "execution_count": null,
   "metadata": {},
   "outputs": [],
   "source": [
    "Q_df = cbgt.collateVariable(results,'Q_df')\n",
    "Q_df[0]"
   ]
  },
  {
   "cell_type": "code",
   "execution_count": null,
   "metadata": {},
   "outputs": [],
   "source": [
    "datatables = cbgt.collateVariable(results,'datatables')"
   ]
  },
  {
   "cell_type": "code",
   "execution_count": null,
   "metadata": {},
   "outputs": [],
   "source": [
    "datatables[0]"
   ]
  },
  {
   "cell_type": "code",
   "execution_count": null,
   "metadata": {},
   "outputs": [],
   "source": [
    "# Plot reward and q values and chosen actions data frames\n",
    "plt_func.plot_reward_and_Q_df(t_epochs[0],Q_df[0],datatables[0])\n"
   ]
  },
  {
   "cell_type": "code",
   "execution_count": null,
   "metadata": {
    "scrolled": true
   },
   "outputs": [],
   "source": [
    "cbgt.comparisonTable(results, ['n_trials','volatility','conflict'])"
   ]
  },
  {
   "cell_type": "code",
   "execution_count": null,
   "metadata": {},
   "outputs": [],
   "source": [
    "popfreqs = cbgt.collateVariable(results,'popfreqs')"
   ]
  },
  {
   "cell_type": "code",
   "execution_count": null,
   "metadata": {},
   "outputs": [],
   "source": [
    "popdata = cbgt.collateVariable(results,'popdata')"
   ]
  },
  {
   "cell_type": "code",
   "execution_count": null,
   "metadata": {},
   "outputs": [],
   "source": [
    "popdata[0][popdata[0]['name'] == 'LIP']['column']"
   ]
  },
  {
   "cell_type": "code",
   "execution_count": null,
   "metadata": {},
   "outputs": [],
   "source": [
    "plt.plot(popfreqs[0].iloc[:,7])\n",
    "plt.plot(popfreqs[0].iloc[:,8])\n",
    "plt.show()"
   ]
  },
  {
   "cell_type": "markdown",
   "metadata": {},
   "source": [
    "### 2. Modifying default values "
   ]
  },
  {
   "cell_type": "markdown",
   "metadata": {},
   "source": [
    "### 2.1 Modifying values "
   ]
  },
  {
   "cell_type": "code",
   "execution_count": null,
   "metadata": {},
   "outputs": [],
   "source": [
    "environment = {\n",
    "    'params': pd.DataFrame([[8, 30]], columns=['N', 'C']),\n",
    "    'pops' : {'FSI': {'Taum': [60]}}, \n",
    "    'receps' : pd.DataFrame([[100, 100]], columns=['Tau_AMPA', 'Tau_GABA']), \n",
    "    'base' : {'FSI': {'FreqExt_AMPA': [100]}}, \n",
    "    'dpmns' : pd.DataFrame([[400, 100]], columns=['dpmn_wmax', 'dpmn_tauDOP']),\n",
    "    'd1' : pd.DataFrame([[3, 50]], columns=['dpmn_type', 'dpmn_c']),\n",
    "    'd2' : pd.DataFrame([[3, 50]], columns=['dpmn_type', 'dpmn_c']),\n",
    "    'channels' : pd.DataFrame([[\"left\"],[\"right\"]], columns=['action']), #action channels related parameters (init_params.py)\n",
    "    #'actionchannels' : pd.DataFrame([[1],[2]], columns=['action']), \n",
    "    'newpathways' : pd.DataFrame([['LIP', 'D1STR', 'AMPA', 'syn', 700, 0.027]], columns=['src', 'dest', 'receptor', 'type', 'con', 'eff']), \n",
    "    'Q_support_params': None,\n",
    "    'Q_df':None,\n",
    "    'n_trials': 5,\n",
    "    'volatility': 2,\n",
    "    'conflict': 0.7,\n",
    "    'reward_mu': 1,\n",
    "    'reward_std': 0.1,\n",
    "}\n",
    "results = cbgt.ExecutionManager(cores=7).run(pl,environment) "
   ]
  },
  {
   "cell_type": "code",
   "execution_count": null,
   "metadata": {},
   "outputs": [],
   "source": [
    "results['popdata']"
   ]
  },
  {
   "cell_type": "code",
   "execution_count": null,
   "metadata": {},
   "outputs": [],
   "source": [
    "results['Q_df']"
   ]
  },
  {
   "cell_type": "markdown",
   "metadata": {},
   "source": [
    "### 2.2 Modifying a subset of values"
   ]
  },
  {
   "cell_type": "code",
   "execution_count": null,
   "metadata": {},
   "outputs": [],
   "source": [
    "environment = {\n",
    "    'params': pd.DataFrame([[4, 1]], columns=['N', 'C']), \n",
    "    'pops': None,\n",
    "    'receps' : None, \n",
    "    'base' : None,\n",
    "    'dpmns' : None,\n",
    "    'd1' : None,\n",
    "    'd2' : None,\n",
    "    'channels' : pd.DataFrame([[\"left\"],[\"right\"]], columns=['action']), #action channels related parameters (init_params.py)\n",
    "    #'actionchannels' : pd.DataFrame([[1],[2]], columns=['action']), \n",
    "    'newpathways' : None, \n",
    "    'Q_support_params': None,\n",
    "    'Q_df':None,\n",
    "    'n_trials': 5,\n",
    "    'volatility': 2,\n",
    "    'conflict': 0.7,\n",
    "    'reward_mu': 1,\n",
    "    'reward_std': 0.1,\n",
    "}\n",
    "\n",
    "results = cbgt.ExecutionManager(cores=7).run(pl,environment) "
   ]
  },
  {
   "cell_type": "code",
   "execution_count": null,
   "metadata": {},
   "outputs": [],
   "source": [
    "results['popdata']"
   ]
  },
  {
   "cell_type": "code",
   "execution_count": null,
   "metadata": {},
   "outputs": [],
   "source": [
    "results['Q_df']"
   ]
  },
  {
   "cell_type": "code",
   "execution_count": null,
   "metadata": {},
   "outputs": [],
   "source": []
  },
  {
   "cell_type": "markdown",
   "metadata": {},
   "source": [
    "### 3. Back to default values "
   ]
  },
  {
   "cell_type": "code",
   "execution_count": null,
   "metadata": {},
   "outputs": [],
   "source": [
    "#See init_params.py / generateepochs.py / popconstruct.py / qvalues.py\n",
    "#to know the parameters contained in each of the following variables \n",
    "environment = {\n",
    "    'params': None, #neuron parameters (init_params.py)\n",
    "    'pops': None,   #population parameters (init_params.py)\n",
    "    'receps' : None, #receptor parameters (init_params.py)\n",
    "    'base' : None, #baseline stimulation parameters (init_params.py)\n",
    "    'dpmns' : None, #dopamine related parameters (init_params.py)\n",
    "    'd1' : None, #D1-MSNs population related parameters (init_params.py)\n",
    "    'd2' : None, #D2-MSNs population related parameters (init_params.py)\n",
    "    'channels' : pd.DataFrame([[\"left\"],[\"right\"]], columns=['action']), #action channels related parameters (init_params.py)\n",
    "    #'actionchannels' : pd.DataFrame([[1],[2]], columns=['action']), #labels for the actions (init_params.py)\n",
    "    'newpathways' : None, #connectivity parameters (popconstruct.py)\n",
    "    'Q_support_params': None, #initialization of Q-values update (qvalues.py) \n",
    "    'Q_df':None, #initialized Q-values df (qvalues.py)  \n",
    "    'n_trials': 5, #number of trials (generateepochs.py)\n",
    "    'volatility': 2, #frequency of changepoints (generateepochs.py)\n",
    "    'conflict': 0.7, #probability of the preferred choice (generateepochs.py)\n",
    "    'reward_mu': 1, #mean for the magnitude of the reward (generateepochs.py)\n",
    "    'reward_std': 0.1, #std for the magnitude of the reward (generateepochs.py)\n",
    "}\n",
    "results = cbgt.ExecutionManager(cores=7).run(pl,environment) "
   ]
  },
  {
   "cell_type": "code",
   "execution_count": null,
   "metadata": {},
   "outputs": [],
   "source": [
    "results['popdata']"
   ]
  },
  {
   "cell_type": "code",
   "execution_count": null,
   "metadata": {},
   "outputs": [],
   "source": [
    "results['Q_df']"
   ]
  },
  {
   "cell_type": "code",
   "execution_count": null,
   "metadata": {},
   "outputs": [],
   "source": []
  },
  {
   "cell_type": "code",
   "execution_count": null,
   "metadata": {},
   "outputs": [],
   "source": []
  },
  {
   "cell_type": "code",
   "execution_count": null,
   "metadata": {},
   "outputs": [],
   "source": [
    "#?"
   ]
  },
  {
   "cell_type": "code",
   "execution_count": null,
   "metadata": {},
   "outputs": [],
   "source": [
    "dev = cbgt.Pipeline()"
   ]
  },
  {
   "cell_type": "code",
   "execution_count": null,
   "metadata": {},
   "outputs": [],
   "source": [
    "dev.add(codeblock_agent_phase0)"
   ]
  },
  {
   "cell_type": "code",
   "execution_count": null,
   "metadata": {},
   "outputs": [],
   "source": [
    "output = cbgt.ExecutionManager(cores=7).run(dev,results) "
   ]
  },
  {
   "cell_type": "code",
   "execution_count": null,
   "metadata": {},
   "outputs": [],
   "source": []
  }
 ],
 "metadata": {
  "kernelspec": {
   "display_name": "Python 3",
   "language": "python",
   "name": "python3"
  },
  "language_info": {
   "codemirror_mode": {
    "name": "ipython",
    "version": 3
   },
   "file_extension": ".py",
   "mimetype": "text/x-python",
   "name": "python",
   "nbconvert_exporter": "python",
   "pygments_lexer": "ipython3",
   "version": "3.6.10"
  }
 },
 "nbformat": 4,
 "nbformat_minor": 4
}
